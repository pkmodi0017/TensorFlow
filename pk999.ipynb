{
    "cells": [
        {
            "cell_type": "code",
            "execution_count": 1,
            "metadata": {},
            "outputs": [
                {
                    "data": {
                        "text/html": "<div>\n<style scoped>\n    .dataframe tbody tr th:only-of-type {\n        vertical-align: middle;\n    }\n\n    .dataframe tbody tr th {\n        vertical-align: top;\n    }\n\n    .dataframe thead th {\n        text-align: right;\n    }\n</style>\n<table border=\"1\" class=\"dataframe\">\n  <thead>\n    <tr style=\"text-align: right;\">\n      <th></th>\n      <th>OBJECT TYPE</th>\n      <th>OBJECT ID</th>\n      <th>SERVICE TYPE</th>\n      <th>PREF MONTH</th>\n      <th>NOTE</th>\n      <th>FREQ</th>\n      <th>LAST SERV DATE</th>\n      <th>NEXT SERV DATE</th>\n    </tr>\n  </thead>\n  <tbody>\n    <tr>\n      <th>0</th>\n      <td>I</td>\n      <td>2981781</td>\n      <td>PM</td>\n      <td>2020-08-01</td>\n      <td>NaN</td>\n      <td>12</td>\n      <td>NaN</td>\n      <td>2020-08-31</td>\n    </tr>\n    <tr>\n      <th>1</th>\n      <td>I</td>\n      <td>3045950</td>\n      <td>PM</td>\n      <td>2020-07-01</td>\n      <td>NaN</td>\n      <td>12</td>\n      <td>NaN</td>\n      <td>2020-07-31</td>\n    </tr>\n    <tr>\n      <th>2</th>\n      <td>I</td>\n      <td>3059006</td>\n      <td>PM</td>\n      <td>2020-07-09</td>\n      <td>NaN</td>\n      <td>12</td>\n      <td>NaN</td>\n      <td>2020-07-31</td>\n    </tr>\n    <tr>\n      <th>3</th>\n      <td>I</td>\n      <td>9230318</td>\n      <td>PM</td>\n      <td>2020-07-13</td>\n      <td>NaN</td>\n      <td>12</td>\n      <td>NaN</td>\n      <td>2020-07-31</td>\n    </tr>\n    <tr>\n      <th>4</th>\n      <td>I</td>\n      <td>9230998</td>\n      <td>PM</td>\n      <td>2020-07-17</td>\n      <td>NaN</td>\n      <td>12</td>\n      <td>NaN</td>\n      <td>2020-07-31</td>\n    </tr>\n  </tbody>\n</table>\n</div>",
                        "text/plain": "  OBJECT TYPE  OBJECT ID SERVICE TYPE PREF MONTH  NOTE  FREQ  LAST SERV DATE  \\\n0           I    2981781           PM 2020-08-01   NaN    12             NaN   \n1           I    3045950           PM 2020-07-01   NaN    12             NaN   \n2           I    3059006           PM 2020-07-09   NaN    12             NaN   \n3           I    9230318           PM 2020-07-13   NaN    12             NaN   \n4           I    9230998           PM 2020-07-17   NaN    12             NaN   \n\n  NEXT SERV DATE  \n0     2020-08-31  \n1     2020-07-31  \n2     2020-07-31  \n3     2020-07-31  \n4     2020-07-31  "
                    },
                    "execution_count": 1,
                    "metadata": {},
                    "output_type": "execute_result"
                }
            ],
            "source": "# The code was removed by Watson Studio for sharing."
        }
    ],
    "metadata": {
        "kernelspec": {
            "display_name": "Python 3.6",
            "language": "python",
            "name": "python3"
        },
        "language_info": {
            "codemirror_mode": {
                "name": "ipython",
                "version": 3
            },
            "file_extension": ".py",
            "mimetype": "text/x-python",
            "name": "python",
            "nbconvert_exporter": "python",
            "pygments_lexer": "ipython3",
            "version": "3.6.9"
        }
    },
    "nbformat": 4,
    "nbformat_minor": 1
}